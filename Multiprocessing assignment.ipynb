{
  "metadata": {
    "kernelspec": {
      "name": "python",
      "display_name": "Python (Pyodide)",
      "language": "python"
    },
    "language_info": {
      "codemirror_mode": {
        "name": "python",
        "version": 3
      },
      "file_extension": ".py",
      "mimetype": "text/x-python",
      "name": "python",
      "nbconvert_exporter": "python",
      "pygments_lexer": "ipython3",
      "version": "3.8"
    }
  },
  "nbformat_minor": 4,
  "nbformat": 4,
  "cells": [
    {
      "cell_type": "code",
      "source": "# Ans 1:-  Multiprocessing in Python refers to the ability of Python to create and manage multiple processes concurrently.\n#          Python's multiprocessing module provides a way to create and manage processes.",
      "metadata": {
        "trusted": true
      },
      "outputs": [],
      "execution_count": 1
    },
    {
      "cell_type": "code",
      "source": "# Ans 2:-  Multithreading offers lightweight concurrency within a single process, sharing memory but limited\n#          by the GIL in Python for CPU-bound tasks.\n\n# Multiprocessing provides true parallelism across multiple CPU cores by using multiple processes with\n#      independent memory spaces, avoiding the GIL limitation and offering better performance for CPU-bound tasks.",
      "metadata": {
        "trusted": true
      },
      "outputs": [],
      "execution_count": 2
    },
    {
      "cell_type": "code",
      "source": "# Ans 3:-",
      "metadata": {
        "trusted": true
      },
      "outputs": [],
      "execution_count": 3
    },
    {
      "cell_type": "code",
      "source": "import multiprocessing\n\ndef square(number):\n    return number * number\n\nif __name__ == \"__main__\":\n    numbers = [1, 2, 3, 4, 5]\n\n    with multiprocessing.Pool() as pool:\n        results = pool.map(square, numbers)\n\n    print(\"Original numbers:\", numbers)\n    print(\"Squared numbers:\", results)",
      "metadata": {
        "trusted": true
      },
      "outputs": [],
      "execution_count": null
    },
    {
      "cell_type": "code",
      "source": "# Ans 4:- In Python's multiprocessing module, Pool is a class that provides a convenient way to parallelize the execution\n#     of a function across multiple input values, distributing the workload among a specified number of processes.",
      "metadata": {
        "trusted": true
      },
      "outputs": [],
      "execution_count": 5
    },
    {
      "cell_type": "code",
      "source": "# Ans 5:-",
      "metadata": {
        "trusted": true
      },
      "outputs": [],
      "execution_count": 7
    },
    {
      "cell_type": "code",
      "source": "# Function to calculate square of a number\ndef square(number):\n    return number * number\n\nif __name__ == \"__main__\":\n    numbers = [1, 2, 3, 4, 5]\n\n    with multiprocessing.Pool() as pool:\n        results = pool.map(square, numbers)\n\n    print(\"Original numbers:\", numbers)\n    print(\"Squared numbers:\", results)",
      "metadata": {
        "trusted": true
      },
      "outputs": [],
      "execution_count": null
    }
  ]
}